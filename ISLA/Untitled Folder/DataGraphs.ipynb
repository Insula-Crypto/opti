{
 "cells": [
  {
   "cell_type": "code",
   "execution_count": 1,
   "metadata": {},
   "outputs": [],
   "source": [
    "import yfinance as yf\n",
    "import numpy as np\n",
    "\n",
    "msft = yf.Ticker(\"^CMC200\")\n",
    "\n",
    "# get historical market data\n",
    "hist = msft.history(period=\"max\")[['Open']]\n",
    "hist['Open'] = (np.where(hist['Open'] < 100, hist['Open'] * 10, hist['Open']))\n",
    "    \n",
    "    \n",
    "hist.to_csv('hist.csv')"
   ]
  },
  {
   "cell_type": "code",
   "execution_count": 2,
   "metadata": {},
   "outputs": [
    {
     "name": "stdout",
     "output_type": "stream",
     "text": [
      "       Date-USD          1          2            3            4          5  \\\n",
      "0    2019-10-27  29.751442  11.484415     0.000000    18.695894   0.428867   \n",
      "1    2019-10-28   0.000000   0.000000    18.695894    18.966912   0.271018   \n",
      "2    2019-10-29   0.000000   0.000000    18.966912    19.742468   0.775556   \n",
      "3    2019-10-30  30.079268  16.427450    19.742468    33.267028  -0.127258   \n",
      "4    2019-10-31   0.000000   0.000000    33.267028    33.119642  -0.147386   \n",
      "..          ...        ...        ...          ...          ...        ...   \n",
      "256  2020-07-09   0.000000   0.000000  2788.261628  2847.162651  58.901023   \n",
      "257  2020-07-10   0.000000   0.000000  2847.162651  2796.197492 -50.965159   \n",
      "258  2020-07-11   0.000000   0.000000  2796.197492  2822.776628  26.579136   \n",
      "259  2020-07-12   0.000000   0.000000  2822.776628  2808.290445 -14.486183   \n",
      "260  2020-07-13   0.000000   0.000000  2808.290445  2808.290445   0.000000   \n",
      "\n",
      "               6            7            8           9           10       ROI  \\\n",
      "0       0.428867     0.428867     0.000000    0.428867    29.751442  1.441500   \n",
      "1       0.699885     0.699885     0.271018    0.428867    29.751442  1.449613   \n",
      "2       1.475441     1.475441     1.046574    0.428867    29.751442  4.088995   \n",
      "3       1.348183     1.348183     0.000000    1.348183    59.830711 -0.255427   \n",
      "4       1.200797     1.200797    -0.147386    1.348183    59.830711 -0.443040   \n",
      "..           ...          ...          ...         ...          ...       ...   \n",
      "256  1071.357040  1071.357040  1187.755523 -116.398483  9368.372325  2.112464   \n",
      "257  1020.391881  1020.391881  1136.790365 -116.398483  9368.372325 -1.790033   \n",
      "258  1046.971018  1046.971018  1163.369501 -116.398483  9368.372325  0.950546   \n",
      "259  1032.484835  1032.484835  1148.883318 -116.398483  9368.372325 -0.513189   \n",
      "260  1032.484835  1032.484835  1148.883318 -116.398483  9368.372325  0.000000   \n",
      "\n",
      "        ROI-USD  \n",
      "0      1.441500  \n",
      "1      2.891113  \n",
      "2      6.980108  \n",
      "3      6.724681  \n",
      "4      6.281641  \n",
      "..          ...  \n",
      "256  135.119013  \n",
      "257  133.328980  \n",
      "258  134.279525  \n",
      "259  133.766336  \n",
      "260  133.766336  \n",
      "\n",
      "[261 rows x 13 columns]\n"
     ]
    }
   ],
   "source": [
    "import requests\n",
    "import pandas as pd\n",
    "from datetime import datetime \n",
    "\n",
    "def get_fund_ROI(address, file_name):\n",
    "    sent = requests.get('https://api.bloxy.info/widget/address_value_daily?address=' + address + '&currency=ETH&key=ACCunOMWYpmCp&format=table&price_currency=USD').json()\n",
    "    df1 = pd.DataFrame(sent)\n",
    "    df1.rename(columns={0:'Date-USD', 11: 'ROI'}, inplace=True)\n",
    "    df1['ROI-USD'] = df1.ROI.cumsum()\n",
    "    \n",
    "    print(df1)\n",
    "\n",
    "#     sent = requests.get('https://api.bloxy.info/widget/address_value_daily?address=' + address + '&currency=ETH&key=ACCunOMWYpmCp&format=table&price_currency=ETH').json()\n",
    "#     df2 = pd.DataFrame(sent)\n",
    "#     df2.rename(columns={0:'Date', 11: 'ROI'}, inplace=True)\n",
    "#     df2['ROI-ETH'] = df2.ROI.cumsum()\n",
    "\n",
    "#     df = pd.concat([df1, df2], axis=1, sort=False)[['Date', 'ROI-USD', 'ROI-ETH']]\n",
    "#     df.to_csv(file_name, index=False)\n",
    "    \n",
    "get_fund_ROI('0xCB60D600160D005845Ec999f64266D5608fd8943', 'Fnd.csv')"
   ]
  },
  {
   "cell_type": "code",
   "execution_count": 40,
   "metadata": {},
   "outputs": [
    {
     "name": "stdout",
     "output_type": "stream",
     "text": [
      "               ROI-USD\n",
      "Date                  \n",
      "2019-10-27    1.441500\n",
      "2019-10-28    2.891113\n",
      "2019-10-29    6.980108\n",
      "2019-10-30    6.724681\n",
      "2019-10-31    6.281641\n",
      "...                ...\n",
      "2020-07-09  135.119013\n",
      "2020-07-10  133.328980\n",
      "2020-07-11  134.279525\n",
      "2020-07-12  133.766336\n",
      "2020-07-13  133.766336\n",
      "\n",
      "[261 rows x 1 columns]\n"
     ]
    }
   ],
   "source": [
    "sent = requests.get('https://api.bloxy.info/widget/address_value_daily?address=' + '0xCB60D600160D005845Ec999f64266D5608fd8943' + '&currency=ETH&key=ACCunOMWYpmCp&format=table&price_currency=USD').json()\n",
    "df1 = pd.DataFrame(sent)\n",
    "df1.rename(columns={0:'Date', 11: 'ROI'}, inplace=True)\n",
    "df1['ROI-USD'] = df1.ROI.cumsum()\n",
    "df1 = df1[['Date', 'ROI-USD']]\n",
    "df1 = df1.set_index('Date')\n",
    "df1.index = pd.to_datetime(df1.index)\n",
    "print(df1)"
   ]
  },
  {
   "cell_type": "code",
   "execution_count": 41,
   "metadata": {},
   "outputs": [],
   "source": [
    "df = pd.concat([df1, hist], axis=1, sort=False)\n",
    "df = df.interpolate(axis=0).dropna(subset=['ROI-USD'])"
   ]
  },
  {
   "cell_type": "code",
   "execution_count": null,
   "metadata": {},
   "outputs": [],
   "source": []
  },
  {
   "cell_type": "code",
   "execution_count": 7,
   "metadata": {},
   "outputs": [
    {
     "name": "stdout",
     "output_type": "stream",
     "text": [
      "               ROI-USD      Open\n",
      "Date                            \n",
      "2019-10-27    1.441500  174.7850\n",
      "2019-10-28    2.891113  193.3600\n",
      "2019-10-29    6.980108  191.3900\n",
      "2019-10-30    6.724681  192.6100\n",
      "2019-10-31    6.281641  187.4400\n",
      "...                ...       ...\n",
      "2020-07-09  135.119013  195.8200\n",
      "2020-07-10  133.328980  186.0775\n",
      "2020-07-11  134.279525  176.3350\n",
      "2020-07-12  133.766336  166.5925\n",
      "2020-07-13  133.766336  156.8500\n",
      "\n",
      "[261 rows x 2 columns]\n"
     ]
    }
   ],
   "source": [
    "print(df)\n",
    "df.to_csv('hello.csv')"
   ]
  },
  {
   "cell_type": "code",
   "execution_count": 9,
   "metadata": {},
   "outputs": [],
   "source": [
    "start_cmc200 = df.head(1)['Open'][0]"
   ]
  },
  {
   "cell_type": "code",
   "execution_count": 33,
   "metadata": {},
   "outputs": [
    {
     "name": "stdout",
     "output_type": "stream",
     "text": [
      "Date\n",
      "2019-10-27    0.000000\n",
      "2019-10-28    0.106273\n",
      "2019-10-29    0.095002\n",
      "2019-10-30    0.101982\n",
      "2019-10-31    0.072403\n",
      "                ...   \n",
      "2020-07-09    0.120348\n",
      "2020-07-10    0.064608\n",
      "2020-07-11    0.008868\n",
      "2020-07-12   -0.046872\n",
      "2020-07-13   -0.102612\n",
      "Name: Open, Length: 261, dtype: float64\n"
     ]
    }
   ],
   "source": [
    "print(((df['Open'] - start_cmc200) / start_cmc200))"
   ]
  },
  {
   "cell_type": "code",
   "execution_count": 21,
   "metadata": {},
   "outputs": [],
   "source": [
    "((df['Open'] - start_cmc200)).to_csv('data.csv')"
   ]
  },
  {
   "cell_type": "code",
   "execution_count": 60,
   "metadata": {},
   "outputs": [],
   "source": [
    "from pycoingecko import CoinGeckoAPI\n",
    "\n",
    "cg = CoinGeckoAPI()\n",
    "\n",
    "data = cg.get_coin_market_chart_by_id('bitcoin', 'eth', 500)\n",
    "\n",
    "dates = [datetime.fromtimestamp(data['prices'][i][0] / 1000).strftime('%Y-%m-%d') for i in range(len(data['prices']))]\n",
    "price  = [data['prices'][i][1] for i in range(len(data['prices']))]\n",
    "\n",
    "df_data = {'BTC-ETH': price, 'Date' : dates} \n",
    "df_btc = pd.DataFrame(df_data)\n",
    "df_btc = df_btc.set_index('Date')\n",
    "df_btc.index = pd.to_datetime(df_btc.index)\n",
    "\n",
    "df2 = pd.concat([df, df_btc], axis=1, sort=False)\n",
    "df2 = df2.dropna(subset=['ROI-USD'])\n",
    "\n",
    "start_btc = df2.head(1)['BTC-ETH'][0]\n",
    "df2['BTC-ETH'] = (((df2['BTC-ETH'] - start_btc) / start_btc)*100)\n",
    "\n",
    "df2.drop(df2.tail(1).index,inplace=True)\n",
    "\n",
    "df2.to_csv('btc_data', index=True)"
   ]
  },
  {
   "cell_type": "code",
   "execution_count": 61,
   "metadata": {},
   "outputs": [
    {
     "name": "stdout",
     "output_type": "stream",
     "text": [
      "               ROI-USD      Open    BTC-ETH\n",
      "Date                                       \n",
      "2019-10-27    1.441500  174.7850   0.000000\n",
      "2019-10-28    2.891113  193.3600   0.428164\n",
      "2019-10-29    6.980108  191.3900  -1.374407\n",
      "2019-10-30    6.724681  192.6100  -4.122372\n",
      "2019-10-31    6.281641  187.4400  -2.742593\n",
      "...                ...       ...        ...\n",
      "2020-07-08  133.006549  196.9000 -24.780848\n",
      "2020-07-09  135.119013  195.8200 -25.825872\n",
      "2020-07-10  133.328980  186.0775 -25.906335\n",
      "2020-07-11  134.279525  176.3350 -25.214487\n",
      "2020-07-12  133.766336  166.5925 -25.021140\n",
      "\n",
      "[260 rows x 3 columns]\n"
     ]
    }
   ],
   "source": [
    "print(df2)"
   ]
  },
  {
   "cell_type": "code",
   "execution_count": null,
   "metadata": {},
   "outputs": [],
   "source": []
  }
 ],
 "metadata": {
  "kernelspec": {
   "display_name": "Python 3",
   "language": "python",
   "name": "python3"
  },
  "language_info": {
   "codemirror_mode": {
    "name": "ipython",
    "version": 3
   },
   "file_extension": ".py",
   "mimetype": "text/x-python",
   "name": "python",
   "nbconvert_exporter": "python",
   "pygments_lexer": "ipython3",
   "version": "3.6.11"
  }
 },
 "nbformat": 4,
 "nbformat_minor": 4
}
